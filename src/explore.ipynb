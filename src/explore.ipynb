{
    "cells": [
        {
            "cell_type": "markdown",
            "metadata": {},
            "source": [
                "# Explore here"
            ]
        },
        {
            "cell_type": "code",
            "execution_count": null,
            "metadata": {},
            "outputs": [],
            "source": [
                "import os\n",
                "from sqlalchemy import create_engine\n",
                "import pandas as pd\n",
                "from dotenv import load_dotenv\n",
                "\n",
                "# load the .env file variables\n",
                "load_dotenv()\n",
                "\n",
                "# 1) Connect to the database here using the SQLAlchemy's create_engine function\n",
                "\n",
                "# 2) Execute the SQL sentences to create your tables using the SQLAlchemy's execute function\n",
                "\n",
                "# 3) Execute the SQL sentences to insert your data using the SQLAlchemy's execute function\n",
                "\n",
                "# 4) Use pandas to print one of the tables as dataframes using read_sql function"
            ]
        },
        {
            "cell_type": "code",
            "execution_count": 1,
            "metadata": {},
            "outputs": [
                {
                    "name": "stdout",
                    "output_type": "stream",
                    "text": [
                        "Defaulting to user installation because normal site-packages is not writeable\n",
                        "Requirement already satisfied: spotipy in /home/vscode/.local/lib/python3.11/site-packages (2.23.0)\n",
                        "Requirement already satisfied: redis>=3.5.3 in /home/vscode/.local/lib/python3.11/site-packages (from spotipy) (5.0.3)\n",
                        "Requirement already satisfied: requests>=2.25.0 in /home/vscode/.local/lib/python3.11/site-packages (from spotipy) (2.27.1)\n",
                        "Requirement already satisfied: six>=1.15.0 in /home/vscode/.local/lib/python3.11/site-packages (from spotipy) (1.16.0)\n",
                        "Requirement already satisfied: urllib3>=1.26.0 in /home/vscode/.local/lib/python3.11/site-packages (from spotipy) (1.26.18)\n",
                        "Requirement already satisfied: certifi>=2017.4.17 in /home/vscode/.local/lib/python3.11/site-packages (from requests>=2.25.0->spotipy) (2024.2.2)\n",
                        "Requirement already satisfied: charset-normalizer~=2.0.0 in /home/vscode/.local/lib/python3.11/site-packages (from requests>=2.25.0->spotipy) (2.0.12)\n",
                        "Requirement already satisfied: idna<4,>=2.5 in /home/vscode/.local/lib/python3.11/site-packages (from requests>=2.25.0->spotipy) (3.6)\n",
                        "\n",
                        "\u001b[1m[\u001b[0m\u001b[34;49mnotice\u001b[0m\u001b[1;39;49m]\u001b[0m\u001b[39;49m A new release of pip is available: \u001b[0m\u001b[31;49m23.1.2\u001b[0m\u001b[39;49m -> \u001b[0m\u001b[32;49m24.0\u001b[0m\n",
                        "\u001b[1m[\u001b[0m\u001b[34;49mnotice\u001b[0m\u001b[1;39;49m]\u001b[0m\u001b[39;49m To update, run: \u001b[0m\u001b[32;49mpip install --upgrade pip\u001b[0m\n",
                        "Note: you may need to restart the kernel to use updated packages.\n"
                    ]
                }
            ],
            "source": [
                "pip install spotipy"
            ]
        },
        {
            "cell_type": "code",
            "execution_count": 3,
            "metadata": {},
            "outputs": [
                {
                    "name": "stdout",
                    "output_type": "stream",
                    "text": [
                        "Defaulting to user installation because normal site-packages is not writeable\n",
                        "Requirement already satisfied: python-dotenv in /home/vscode/.local/lib/python3.11/site-packages (0.20.0)\n",
                        "\n",
                        "\u001b[1m[\u001b[0m\u001b[34;49mnotice\u001b[0m\u001b[1;39;49m]\u001b[0m\u001b[39;49m A new release of pip is available: \u001b[0m\u001b[31;49m23.1.2\u001b[0m\u001b[39;49m -> \u001b[0m\u001b[32;49m24.0\u001b[0m\n",
                        "\u001b[1m[\u001b[0m\u001b[34;49mnotice\u001b[0m\u001b[1;39;49m]\u001b[0m\u001b[39;49m To update, run: \u001b[0m\u001b[32;49mpip install --upgrade pip\u001b[0m\n",
                        "Note: you may need to restart the kernel to use updated packages.\n"
                    ]
                }
            ],
            "source": [
                "pip install python-dotenv"
            ]
        },
        {
            "cell_type": "code",
            "execution_count": 6,
            "metadata": {},
            "outputs": [
                {
                    "name": "stdout",
                    "output_type": "stream",
                    "text": [
                        "Defaulting to user installation because normal site-packages is not writeable\n",
                        "Requirement already satisfied: pip in /usr/local/lib/python3.11/site-packages (23.1.2)\n",
                        "Collecting pip\n",
                        "  Downloading pip-24.0-py3-none-any.whl (2.1 MB)\n",
                        "\u001b[2K     \u001b[90m━━━━━━━━━━━━━━━━━━━━━━━━━━━━━━━━━━━━━━━━\u001b[0m \u001b[32m2.1/2.1 MB\u001b[0m \u001b[31m24.5 MB/s\u001b[0m eta \u001b[36m0:00:00\u001b[0m:00:01\u001b[0m\n",
                        "\u001b[?25hInstalling collected packages: pip\n",
                        "Successfully installed pip-24.0\n",
                        "Note: you may need to restart the kernel to use updated packages.\n"
                    ]
                }
            ],
            "source": [
                "pip install --upgrade pip"
            ]
        },
        {
            "cell_type": "code",
            "execution_count": 57,
            "metadata": {},
            "outputs": [],
            "source": [
                "import os\n",
                "import spotipy\n",
                "from spotipy.oauth2 import SpotifyClientCredentials\n",
                "from dotenv import load_dotenv\n",
                "import pandas as pd"
            ]
        },
        {
            "cell_type": "code",
            "execution_count": 58,
            "metadata": {},
            "outputs": [
                {
                    "data": {
                        "text/plain": [
                            "<spotipy.client.Spotify at 0x7f216cd45ed0>"
                        ]
                    },
                    "execution_count": 58,
                    "metadata": {},
                    "output_type": "execute_result"
                }
            ],
            "source": [
                "# Ruta completa al archivo .env\n",
                "dotenv_path = \"/workspaces/interacting-with-api-python-project-tutorial/src/api.env\"\n",
                "\n",
                "# Cargar variables de entorno desde el archivo .env\n",
                "load_dotenv(dotenv_path)\n",
                "\n",
                "# Obtener las credenciales del cliente de Spotify desde las variables de entorno\n",
                "client_id = os.getenv(\"SPOTIFY_CLIENT_ID\")\n",
                "client_secret = os.getenv(\"SPOTIFY_CLIENT_SECRET\")\n",
                "spotipy.Spotify()"
            ]
        },
        {
            "cell_type": "code",
            "execution_count": 63,
            "metadata": {},
            "outputs": [
                {
                    "name": "stdout",
                    "output_type": "stream",
                    "text": [
                        "Canción: Alors on danse - Radio Edit\n",
                        "Popularidad: 79\n",
                        "Duración: 206.066 segundos\n",
                        "\n",
                        "Canción: Formidable\n",
                        "Popularidad: 50\n",
                        "Duración: 213.933 segundos\n",
                        "\n",
                        "Canción: Papaoutai\n",
                        "Popularidad: 54\n",
                        "Duración: 232.146 segundos\n",
                        "\n",
                        "Canción: Tous les mêmes\n",
                        "Popularidad: 55\n",
                        "Duración: 210.933 segundos\n",
                        "\n",
                        "Canción: Alors On Danse - DubDogz Remix\n",
                        "Popularidad: 71\n",
                        "Duración: 168.576 segundos\n",
                        "\n",
                        "Canción: Santé\n",
                        "Popularidad: 63\n",
                        "Duración: 191.0 segundos\n",
                        "\n",
                        "Canción: L’enfer\n",
                        "Popularidad: 59\n",
                        "Duración: 189.72 segundos\n",
                        "\n",
                        "Canción: Fils de joie\n",
                        "Popularidad: 61\n",
                        "Duración: 195.44 segundos\n",
                        "\n",
                        "Canción: Ta fête\n",
                        "Popularidad: 42\n",
                        "Duración: 175.426 segundos\n",
                        "\n",
                        "Canción: carmen\n",
                        "Popularidad: 43\n",
                        "Duración: 189.026 segundos\n",
                        "\n"
                    ]
                }
            ],
            "source": [
                "# Configurar las credenciales del cliente de Spotify\n",
                "client_credentials_manager = SpotifyClientCredentials(client_id=client_id, client_secret=client_secret)\n",
                "sp = spotipy.Spotify(client_credentials_manager=client_credentials_manager)\n",
                "\n",
                "# ID de Stromae\n",
                "id_stromae = \"5j4HeCoUlzhfWtjAfM1acR\"\n",
                "\n",
                "# Obtener las mejores pistas del artista Stromae\n",
                "response = sp.artist_top_tracks(id_stromae)\n",
                "if response:\n",
                "    tracks = response[\"tracks\"]\n",
                "    # Crear una lista para almacenar los detalles de las pistas\n",
                "    tracks_data = []\n",
                "    # Iterar sobre cada pista y obtener detalles\n",
                "    for track in tracks:\n",
                "        name = track[\"name\"]\n",
                "        popularity = track[\"popularity\"]\n",
                "        duration_ms = track[\"duration_ms\"]  # Duración en milisegundos\n",
                "        duration_sec = duration_ms / 1000  # Convertir a segundos\n",
                "        \n",
                "         # Agregar los detalles de la pista a la lista de datos de pistas\n",
                "        tracks_data.append({\n",
                "            \"Nombre\": name,\n",
                "            \"Popularidad\": popularity,\n",
                "            \"Duración (segundos)\": duration_sec\n",
                "        })\n",
                "        # Imprimir detalles de la pista\n",
                "        print(f\"Canción: {name}\")\n",
                "        print(f\"Popularidad: {popularity}\")\n",
                "        print(f\"Duración: {duration_sec} segundos\\n\")\n",
                "else:\n",
                "    print(\"No se encontraron pistas principales para el artista.\")\n"
            ]
        },
        {
            "cell_type": "code",
            "execution_count": 65,
            "metadata": {},
            "outputs": [
                {
                    "name": "stdout",
                    "output_type": "stream",
                    "text": [
                        "                           Nombre  Popularidad  Duración (segundos)\n",
                        "0     Alors on danse - Radio Edit           79              206.066\n",
                        "1                      Formidable           50              213.933\n",
                        "2                       Papaoutai           54              232.146\n",
                        "3                  Tous les mêmes           55              210.933\n",
                        "4  Alors On Danse - DubDogz Remix           71              168.576\n",
                        "5                           Santé           63              191.000\n",
                        "6                         L’enfer           59              189.720\n",
                        "7                    Fils de joie           61              195.440\n",
                        "8                         Ta fête           42              175.426\n",
                        "9                          carmen           43              189.026\n"
                    ]
                }
            ],
            "source": [
                "# Crear un DataFrame de pandas a partir de la lista de datos de pistas\n",
                "df = pd.DataFrame(tracks_data)\n",
                "print(df)"
            ]
        },
        {
            "cell_type": "code",
            "execution_count": 68,
            "metadata": {},
            "outputs": [
                {
                    "data": {
                        "image/png": "[encoded data removed]",
                        "text/plain": [
                            "<Figure size 1000x600 with 1 Axes>"
                        ]
                    },
                    "metadata": {},
                    "output_type": "display_data"
                }
            ],
            "source": [
                "import matplotlib.pyplot as plt\n",
                "import numpy as np\n",
                "\n",
                "# Calcular el coeficiente de correlación de Pearson\n",
                "correlation = df[\"Popularidad\"].corr(df[\"Duración (segundos)\"])\n",
                "\n",
                "# scatter plot\n",
                "\n",
                "plt.figure(figsize=(10, 6))\n",
                "plt.scatter(df[\"Popularidad\"], df[\"Duración (segundos)\"], color='blue', alpha=0.5)\n",
                "plt.title('Popularidad vs Duración de las Canciones')\n",
                "plt.xlabel('Popularidad')\n",
                "plt.ylabel('Duración (segundos)')\n",
                "plt.grid(True)\n",
                "    \n",
                "# Mostrar el coeficiente de correlación en la salida\n",
                "plt.text(0.1, 0.9, f'Coeficiente de correlación: {correlation:.2f}', transform=plt.gca().transAxes)\n",
                "    \n",
                "plt.show()"
            ]
        }
    ],
    "metadata": {
        "kernelspec": {
            "display_name": "Python 3.8.13 64-bit ('3.8.13')",
            "language": "python",
            "name": "python3"
        },
        "language_info": {
            "codemirror_mode": {
                "name": "ipython",
                "version": 3
            },
            "file_extension": ".py",
            "mimetype": "text/x-python",
            "name": "python",
            "nbconvert_exporter": "python",
            "pygments_lexer": "ipython3",
            "version": "3.11.4"
        },
        "orig_nbformat": 4,
        "vscode": {
            "interpreter": {
                "hash": "110cc1dee26208153f2972f08a2ad52b6a56238dc66d48e87fb757ef2996db56"
            }
        }
    },
    "nbformat": 4,
    "nbformat_minor": 2
}
